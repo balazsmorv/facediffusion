{
 "cells": [
  {
   "attachments": {},
   "cell_type": "markdown",
   "metadata": {},
   "source": [
    "# Calculating image metrics"
   ]
  },
  {
   "cell_type": "code",
   "execution_count": 1,
   "metadata": {},
   "outputs": [
    {
     "name": "stdout",
     "output_type": "stream",
     "text": [
      "Could not load pyspng. Defaulting to pillow image backend.\n"
     ]
    },
    {
     "name": "stderr",
     "output_type": "stream",
     "text": [
      "/home/oem/anaconda3/envs/facediffusion/lib/python3.10/site-packages/tqdm/auto.py:22: TqdmWarning: IProgress not found. Please update jupyter and ipywidgets. See https://ipywidgets.readthedocs.io/en/stable/user_install.html\n",
      "  from .autonotebook import tqdm as notebook_tqdm\n"
     ]
    }
   ],
   "source": [
    "import sys\n",
    "sys.path.insert(0, '/home/oem/facediffusion')\n",
    "from fdh256_dataset import FDF256Dataset"
   ]
  },
  {
   "cell_type": "code",
   "execution_count": 2,
   "metadata": {},
   "outputs": [
    {
     "name": "stdout",
     "output_type": "stream",
     "text": [
      "Dataset loaded from: /home/oem/FDF/val. Number of samples:6531\n"
     ]
    }
   ],
   "source": [
    "dataset_path = '/home/oem/FDF/val'\n",
    "dataset = FDF256Dataset(dirpath=dataset_path, load_keypoints=True, load_impath=True)"
   ]
  },
  {
   "cell_type": "code",
   "execution_count": 3,
   "metadata": {},
   "outputs": [],
   "source": []
  },
  {
   "cell_type": "code",
   "execution_count": 4,
   "metadata": {},
   "outputs": [],
   "source": [
    "generated_ims_path = '/home/oem/facediffusion/results/ddim_generated_images_16'\n",
    "sr_ims_path = '/home/oem/facediffusion/Coginfocom/ddim_generated_images_16-fdf'"
   ]
  },
  {
   "cell_type": "code",
   "execution_count": 7,
   "metadata": {},
   "outputs": [
    {
     "name": "stderr",
     "output_type": "stream",
     "text": [
      "2023-11-21 21:56:15.930807: I external/local_tsl/tsl/cuda/cudart_stub.cc:31] Could not find cuda drivers on your machine, GPU will not be used.\n",
      "2023-11-21 21:56:15.949932: E external/local_xla/xla/stream_executor/cuda/cuda_dnn.cc:9261] Unable to register cuDNN factory: Attempting to register factory for plugin cuDNN when one has already been registered\n",
      "2023-11-21 21:56:15.949947: E external/local_xla/xla/stream_executor/cuda/cuda_fft.cc:607] Unable to register cuFFT factory: Attempting to register factory for plugin cuFFT when one has already been registered\n",
      "2023-11-21 21:56:15.950491: E external/local_xla/xla/stream_executor/cuda/cuda_blas.cc:1515] Unable to register cuBLAS factory: Attempting to register factory for plugin cuBLAS when one has already been registered\n",
      "2023-11-21 21:56:15.953791: I external/local_tsl/tsl/cuda/cudart_stub.cc:31] Could not find cuda drivers on your machine, GPU will not be used.\n",
      "2023-11-21 21:56:15.954297: I tensorflow/core/platform/cpu_feature_guard.cc:182] This TensorFlow binary is optimized to use available CPU instructions in performance-critical operations.\n",
      "To enable the following instructions: AVX2 FMA, in other operations, rebuild TensorFlow with the appropriate compiler flags.\n",
      "2023-11-21 21:56:16.429441: W tensorflow/compiler/tf2tensorrt/utils/py_utils.cc:38] TF-TRT Warning: Could not find TensorRT\n"
     ]
    }
   ],
   "source": [
    "from tqdm import tqdm\n",
    "from skimage.metrics import structural_similarity as ssim\n",
    "import tensorflow as tf\n",
    "import torch\n",
    "import os\n",
    "import PIL\n",
    "from PIL import Image\n",
    "import numpy as np\n",
    "import logging\n",
    "\n",
    "logging.basicConfig(filename=\"DDIM_16\",\n",
    "                    filemode='a',\n",
    "                    format='%(asctime)s,%(msecs)d %(name)s %(levelname)s %(message)s',\n",
    "                    datefmt='%H:%M:%S',\n",
    "                    level=logging.INFO)\n",
    "logging.info(\"Running image metrics comparison...\")\n",
    "logger = logging.getLogger('DDIM_16')"
   ]
  },
  {
   "cell_type": "code",
   "execution_count": 9,
   "metadata": {},
   "outputs": [
    {
     "name": "stderr",
     "output_type": "stream",
     "text": [
      "  0%|          | 0/6531 [00:00<?, ?it/s]2023-11-21 21:57:04.616042: I external/local_xla/xla/stream_executor/cuda/cuda_executor.cc:901] successful NUMA node read from SysFS had negative value (-1), but there must be at least one NUMA node, so returning NUMA node zero. See more at https://github.com/torvalds/linux/blob/v6.0/Documentation/ABI/testing/sysfs-bus-pci#L344-L355\n",
      "2023-11-21 21:57:04.619366: W tensorflow/core/common_runtime/gpu/gpu_device.cc:2256] Cannot dlopen some GPU libraries. Please make sure the missing libraries mentioned above are installed properly if you would like to use GPU. Follow the guide at https://www.tensorflow.org/install/gpu for how to download and setup the required libraries for your platform.\n",
      "Skipping registering GPU devices...\n",
      "100%|██████████| 6531/6531 [02:28<00:00, 43.93it/s]"
     ]
    },
    {
     "name": "stdout",
     "output_type": "stream",
     "text": [
      "Interpolated images PSNR = 21.659893035888672\n",
      "SR images PSNR = 19.727079391479492\n",
      "Interpolated images SSIM = 0.675844280921999\n",
      "SR images SSIM = 0.6085908290426706\n"
     ]
    },
    {
     "name": "stderr",
     "output_type": "stream",
     "text": [
      "\n"
     ]
    }
   ],
   "source": [
    "total_pred_psnr = 0.0\n",
    "total_pred_ssim = 0.0\n",
    "total_sr_psnr = 0.0\n",
    "total_sr_ssim = 0.0\n",
    "\n",
    "for i in tqdm(range(len(dataset))):\n",
    "    original_img = dataset[i][\"img\"]\n",
    "    img_name: str = str(dataset[i]['impath']).split('/')[-1]\n",
    "    img_idx = img_name.split('.')[0]\n",
    "    \n",
    "    pred_img_path = os.path.join(generated_ims_path, f'{img_idx}.jpg')\n",
    "    pred_img = Image.open(pred_img_path)\n",
    "    pred_img = pred_img.resize((256, 256), Image.BICUBIC)\n",
    "    pred_img = np.asarray(pred_img)\n",
    "    \n",
    "    sr_img_path = os.path.join(sr_ims_path, f'{img_idx}.png')\n",
    "    sr_img = Image.open(sr_img_path)\n",
    "    sr_img = np.asarray(sr_img)\n",
    "    \n",
    "    pred_im_psnr: float = tf.image.psnr(pred_img, original_img, max_val=255)\n",
    "    logger.info(f'{img_idx} PRED PSNR {pred_im_psnr}')\n",
    "    pred_im_ssim: float = ssim(im1=original_img, im2=pred_img, data_range=pred_img.max() - pred_img.min(), channel_axis=2)\n",
    "    logger.info(f'{img_idx} PRED SSIM {pred_im_ssim}')\n",
    "    total_pred_psnr += pred_im_psnr\n",
    "    total_pred_ssim += pred_im_ssim\n",
    "    \n",
    "    sr_im_psnr: float = tf.image.psnr(sr_img, original_img, max_val=255)\n",
    "    logger.info(f'{img_idx} SR PSNR {sr_im_psnr}')\n",
    "    sr_im_ssim: float = ssim(im1=original_img, im2=sr_img, data_range=sr_img.max() - sr_img.min(), channel_axis=2)\n",
    "    logger.info(f'{img_idx} SR SSIM {sr_im_ssim}')\n",
    "    total_sr_psnr += sr_im_psnr\n",
    "    total_sr_ssim += sr_im_ssim\n",
    "    \n",
    "avg_pred_psnr = total_pred_psnr / len(dataset)\n",
    "avg_pred_ssim = total_pred_ssim / len(dataset)\n",
    "\n",
    "avg_sr_psnr = total_sr_psnr / len(dataset)\n",
    "avg_sr_ssim = total_sr_ssim / len(dataset)\n",
    "\n",
    "logger.info(f'Interpolated images PSNR = {avg_pred_psnr}')\n",
    "logger.info(f'SR images PSNR = {avg_sr_psnr}')\n",
    "logger.info(f'Interpolated images SSIM = {avg_pred_ssim}')\n",
    "logger.info(f'SR images SSIM = {avg_sr_ssim}')\n",
    "\n",
    "print(f'Interpolated images PSNR = {avg_pred_psnr}')\n",
    "print(f'SR images PSNR = {avg_sr_psnr}')\n",
    "print(f'Interpolated images SSIM = {avg_pred_ssim}')\n",
    "print(f'SR images SSIM = {avg_sr_ssim}')\n"
   ]
  }
 ],
 "metadata": {
  "kernelspec": {
   "display_name": "facediffusion",
   "language": "python",
   "name": "python3"
  },
  "language_info": {
   "codemirror_mode": {
    "name": "ipython",
    "version": 3
   },
   "file_extension": ".py",
   "mimetype": "text/x-python",
   "name": "python",
   "nbconvert_exporter": "python",
   "pygments_lexer": "ipython3",
   "version": "3.10.8"
  },
  "orig_nbformat": 4
 },
 "nbformat": 4,
 "nbformat_minor": 2
}
