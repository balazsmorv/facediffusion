{
 "cells": [
  {
   "cell_type": "code",
   "execution_count": 2,
   "metadata": {},
   "outputs": [
    {
     "name": "stderr",
     "output_type": "stream",
     "text": [
      "100%|██████████| 6531/6531 [00:09<00:00, 654.26it/s]\n"
     ]
    }
   ],
   "source": [
    "import PIL\n",
    "from PIL import Image\n",
    "import os\n",
    "from tqdm import tqdm\n",
    "\n",
    "data_path = '/datadrive/facediffusion/Coginfocom/images-ema'\n",
    "target_path = '/datadrive/facediffusion/Coginfocom/bicubic-ema'\n",
    "\n",
    "for filename in tqdm(os.listdir(data_path)):\n",
    "    filepath = os.path.join(data_path, filename)\n",
    "    image = Image.open(filepath)\n",
    "    resized = image.resize((256, 256), Image.BICUBIC)\n",
    "    resized.save(os.path.join(target_path, filename))"
   ]
  }
 ],
 "metadata": {
  "kernelspec": {
   "display_name": "facediffusion",
   "language": "python",
   "name": "python3"
  },
  "language_info": {
   "codemirror_mode": {
    "name": "ipython",
    "version": 3
   },
   "file_extension": ".py",
   "mimetype": "text/x-python",
   "name": "python",
   "nbconvert_exporter": "python",
   "pygments_lexer": "ipython3",
   "version": "3.9.16"
  },
  "orig_nbformat": 4
 },
 "nbformat": 4,
 "nbformat_minor": 2
}
