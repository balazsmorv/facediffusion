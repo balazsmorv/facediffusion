{
 "cells": [
  {
   "attachments": {},
   "cell_type": "markdown",
   "metadata": {},
   "source": [
    "# Calculating image metrics"
   ]
  },
  {
   "cell_type": "code",
   "execution_count": 1,
   "metadata": {},
   "outputs": [
    {
     "name": "stdout",
     "output_type": "stream",
     "text": [
      "Could not load pyspng. Defaulting to pillow image backend.\n"
     ]
    }
   ],
   "source": [
    "import sys\n",
    "sys.path.insert(0, '/datadrive/facediffusion')\n",
    "from fdh256_dataset import FDF256Dataset"
   ]
  },
  {
   "cell_type": "code",
   "execution_count": 7,
   "metadata": {},
   "outputs": [
    {
     "name": "stdout",
     "output_type": "stream",
     "text": [
      "Dataset loaded from: /datadrive/FDF/dataset/val. Number of samples:6531\n"
     ]
    }
   ],
   "source": [
    "dataset_path = '/datadrive/FDF/dataset/val'\n",
    "dataset = FDF256Dataset(dirpath=dataset_path, load_keypoints=True, load_impath=True)"
   ]
  },
  {
   "cell_type": "code",
   "execution_count": 3,
   "metadata": {},
   "outputs": [],
   "source": [
    "EMA = False # set to true to perform evaluation on the EMA model's generated images"
   ]
  },
  {
   "cell_type": "code",
   "execution_count": 4,
   "metadata": {},
   "outputs": [],
   "source": [
    "if EMA:\n",
    "    generated_ims_path = '/datadrive/facediffusion/Coginfocom/images-ema'\n",
    "    sr_ims_path = '/datadrive/facediffusion/Coginfocom/DFDNet-SR-Coginfocom-EMA'\n",
    "else:\n",
    "    generated_ims_path = '/datadrive/facediffusion/Coginfocom/images'\n",
    "    sr_ims_path = '/datadrive/facediffusion/Coginfocom/DFDNet-SR-Coginfocom'"
   ]
  },
  {
   "cell_type": "code",
   "execution_count": 5,
   "metadata": {},
   "outputs": [
    {
     "name": "stderr",
     "output_type": "stream",
     "text": [
      "2023-05-10 08:35:28.108955: I tensorflow/core/platform/cpu_feature_guard.cc:182] This TensorFlow binary is optimized to use available CPU instructions in performance-critical operations.\n",
      "To enable the following instructions: AVX2 FMA, in other operations, rebuild TensorFlow with the appropriate compiler flags.\n",
      "2023-05-10 08:35:28.969898: W tensorflow/compiler/tf2tensorrt/utils/py_utils.cc:38] TF-TRT Warning: Could not find TensorRT\n"
     ]
    }
   ],
   "source": [
    "from tqdm import tqdm\n",
    "from skimage.metrics import structural_similarity as ssim\n",
    "import tensorflow as tf\n",
    "import torch\n",
    "import os\n",
    "import PIL\n",
    "from PIL import Image\n",
    "import numpy as np\n",
    "import logging\n",
    "\n",
    "logging.basicConfig(filename=\"EMA-DFDNet\" if EMA else \"non-EMA-DFDNet\",\n",
    "                    filemode='a',\n",
    "                    format='%(asctime)s,%(msecs)d %(name)s %(levelname)s %(message)s',\n",
    "                    datefmt='%H:%M:%S',\n",
    "                    level=logging.INFO)\n",
    "logging.info(\"Running image metrics comparison...\")\n",
    "logger = logging.getLogger('DFDNet')"
   ]
  },
  {
   "cell_type": "code",
   "execution_count": 9,
   "metadata": {},
   "outputs": [
    {
     "name": "stderr",
     "output_type": "stream",
     "text": [
      "  0%|          | 0/6531 [00:00<?, ?it/s]2023-05-10 08:36:51.570780: I tensorflow/core/common_runtime/gpu/gpu_device.cc:1635] Created device /job:localhost/replica:0/task:0/device:GPU:0 with 14087 MB memory:  -> device: 0, name: Tesla V100-PCIE-16GB, pci bus id: 0001:00:00.0, compute capability: 7.0\n",
      "2023-05-10 08:36:51.580393: I tensorflow/core/common_runtime/gpu/gpu_device.cc:1635] Created device /job:localhost/replica:0/task:0/device:GPU:1 with 14087 MB memory:  -> device: 1, name: Tesla V100-PCIE-16GB, pci bus id: 0002:00:00.0, compute capability: 7.0\n",
      "2023-05-10 08:36:51.581176: I tensorflow/core/common_runtime/gpu/gpu_device.cc:1635] Created device /job:localhost/replica:0/task:0/device:GPU:2 with 14087 MB memory:  -> device: 2, name: Tesla V100-PCIE-16GB, pci bus id: 0003:00:00.0, compute capability: 7.0\n",
      "2023-05-10 08:36:51.581708: I tensorflow/core/common_runtime/gpu/gpu_device.cc:1635] Created device /job:localhost/replica:0/task:0/device:GPU:3 with 14087 MB memory:  -> device: 3, name: Tesla V100-PCIE-16GB, pci bus id: 0004:00:00.0, compute capability: 7.0\n",
      "100%|██████████| 6531/6531 [07:13<00:00, 15.07it/s]"
     ]
    },
    {
     "name": "stdout",
     "output_type": "stream",
     "text": [
      "Interpolated images PSNR = 21.267093658447266\n",
      "SR images PSNR = 19.325897216796875\n",
      "Interpolated images SSIM = 0.6628624857274609\n",
      "SR images SSIM = 0.5971902770380556\n"
     ]
    },
    {
     "name": "stderr",
     "output_type": "stream",
     "text": [
      "\n"
     ]
    }
   ],
   "source": [
    "total_pred_psnr = 0.0\n",
    "total_pred_ssim = 0.0\n",
    "total_sr_psnr = 0.0\n",
    "total_sr_ssim = 0.0\n",
    "\n",
    "for i in tqdm(range(len(dataset))):\n",
    "    original_img = dataset[i][\"img\"]\n",
    "    img_name: str = str(dataset[i]['impath']).split('/')[-1]\n",
    "    img_idx = img_name.split('.')[0]\n",
    "    \n",
    "    pred_img_path = os.path.join(generated_ims_path, f'{img_idx}.jpeg')\n",
    "    pred_img = Image.open(pred_img_path)\n",
    "    pred_img = pred_img.resize((256, 256), Image.BICUBIC)\n",
    "    pred_img = np.asarray(pred_img)\n",
    "    \n",
    "    sr_img_path = os.path.join(sr_ims_path, f'{img_idx}.png')\n",
    "    sr_img = Image.open(sr_img_path)\n",
    "    sr_img = np.asarray(sr_img)\n",
    "    \n",
    "    pred_im_psnr: float = tf.image.psnr(pred_img, original_img, max_val=255)\n",
    "    logger.info(f'{img_idx} PRED PSNR {pred_im_psnr}')\n",
    "    pred_im_ssim: float = ssim(im1=original_img, im2=pred_img, data_range=pred_img.max() - pred_img.min(), channel_axis=2)\n",
    "    logger.info(f'{img_idx} PRED SSIM {pred_im_ssim}')\n",
    "    total_pred_psnr += pred_im_psnr\n",
    "    total_pred_ssim += pred_im_ssim\n",
    "    \n",
    "    sr_im_psnr: float = tf.image.psnr(sr_img, original_img, max_val=255)\n",
    "    logger.info(f'{img_idx} SR PSNR {sr_im_psnr}')\n",
    "    sr_im_ssim: float = ssim(im1=original_img, im2=sr_img, data_range=sr_img.max() - sr_img.min(), channel_axis=2)\n",
    "    logger.info(f'{img_idx} SR SSIM {sr_im_ssim}')\n",
    "    total_sr_psnr += sr_im_psnr\n",
    "    total_sr_ssim += sr_im_ssim\n",
    "    \n",
    "avg_pred_psnr = total_pred_psnr / len(dataset)\n",
    "avg_pred_ssim = total_pred_ssim / len(dataset)\n",
    "\n",
    "avg_sr_psnr = total_sr_psnr / len(dataset)\n",
    "avg_sr_ssim = total_sr_ssim / len(dataset)\n",
    "\n",
    "logger.info(f'Interpolated images PSNR = {avg_pred_psnr}')\n",
    "logger.info(f'SR images PSNR = {avg_sr_psnr}')\n",
    "logger.info(f'Interpolated images SSIM = {avg_pred_ssim}')\n",
    "logger.info(f'SR images SSIM = {avg_sr_ssim}')\n",
    "\n",
    "print(f'Interpolated images PSNR = {avg_pred_psnr}')\n",
    "print(f'SR images PSNR = {avg_sr_psnr}')\n",
    "print(f'Interpolated images SSIM = {avg_pred_ssim}')\n",
    "print(f'SR images SSIM = {avg_sr_ssim}')\n",
    "    "
   ]
  }
 ],
 "metadata": {
  "kernelspec": {
   "display_name": "facediffusion",
   "language": "python",
   "name": "python3"
  },
  "language_info": {
   "codemirror_mode": {
    "name": "ipython",
    "version": 3
   },
   "file_extension": ".py",
   "mimetype": "text/x-python",
   "name": "python",
   "nbconvert_exporter": "python",
   "pygments_lexer": "ipython3",
   "version": "3.9.16"
  },
  "orig_nbformat": 4
 },
 "nbformat": 4,
 "nbformat_minor": 2
}
